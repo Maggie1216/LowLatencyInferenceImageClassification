{
 "cells": [
  {
   "cell_type": "code",
   "execution_count": 187,
   "metadata": {},
   "outputs": [],
   "source": [
    "#imports\n",
    "import torch\n",
    "import numpy as np\n",
    "import pandas as pd\n",
    "import torchvision.models as models\n",
    "from torch.utils.tensorboard import SummaryWriter\n",
    "import seaborn as sns\n",
    "import matplotlib.pyplot as plt\n",
    "from torch.utils.data import TensorDataset\n",
    "import time\n",
    "import torch.nn as nn\n",
    "import torch.optim as optim\n",
    "from torch.autograd import Variable\n",
    "from torch.utils.data import Dataset, DataLoader\n",
    "import torchvision\n",
    "from torchvision import datasets, models, transforms\n",
    "import matplotlib.pyplot as plt\n",
    "import copy\n",
    "import os\n",
    "import pickle\n",
    "from tqdm import tqdm"
   ]
  },
  {
   "cell_type": "code",
   "execution_count": 188,
   "metadata": {},
   "outputs": [],
   "source": [
    "#read files\n",
    "def unpickle(file):\n",
    "    \n",
    "    with open(file, 'rb') as fo:\n",
    "        dictionary = pickle.load(fo, encoding='bytes')\n",
    "    return dictionary"
   ]
  },
  {
   "cell_type": "code",
   "execution_count": 189,
   "metadata": {},
   "outputs": [],
   "source": [
    "#data processing\n",
    "def reshape_images(data_dict):\n",
    "    reshaped = data_dict.numpy().reshape(len(data_dict), 1024, 3, order = 'F').reshape(len(data_dict), 32,32,3)\n",
    "    reshaped_processed = torch.from_numpy(reshaped).float().permute(0, 3, 1, 2)\n",
    "    return reshaped_processed"
   ]
  },
  {
   "cell_type": "markdown",
   "metadata": {},
   "source": [
    "## Settings"
   ]
  },
  {
   "cell_type": "code",
   "execution_count": 190,
   "metadata": {},
   "outputs": [],
   "source": [
    "#data settings\n",
    "subset = True #for local running\n",
    "k = 0 #number of samples needed to each class in validation set, because we need to split train and validation\n",
    "if k == 0:\n",
    "    ENABLE_VAL = False #we do not have validation set then\n",
    "#model settings\n",
    "USE_TENSORBOARD = False\n",
    "if USE_TENSORBOARD:\n",
    "    foo = SummaryWriter()\n",
    "use_gpu = False\n",
    "\n",
    "#lr scheduler\n",
    "BASE_LR = 0.001\n",
    "EPOCH_DECAY = 4\n",
    "DECAY_WEIGHT = 0.5\n",
    "\n",
    "DEVICE = 'cpu'\n",
    "if use_gpu and torch.cuda.is_available():\n",
    "    DEVICE = 'cuda'"
   ]
  },
  {
   "cell_type": "markdown",
   "metadata": {},
   "source": [
    "## Load Data and Process"
   ]
  },
  {
   "cell_type": "code",
   "execution_count": 191,
   "metadata": {},
   "outputs": [],
   "source": [
    "test_dict = unpickle('../cifar-100-python/test')\n",
    "train_dict = unpickle('../cifar-100-python/train')\n",
    "meta = unpickle('../cifar-100-python/meta')"
   ]
  },
  {
   "cell_type": "code",
   "execution_count": 192,
   "metadata": {},
   "outputs": [],
   "source": [
    "label_names = meta[b'fine_label_names']"
   ]
  },
  {
   "cell_type": "code",
   "execution_count": 193,
   "metadata": {},
   "outputs": [],
   "source": [
    "if subset:\n",
    "    train_data = torch.from_numpy(train_dict[b'data'][:100])\n",
    "    train_y = torch.tensor(train_dict[b'fine_labels'][:100])\n",
    "    test_data = torch.from_numpy(test_dict[b'data'][:100])\n",
    "    test_y = torch.tensor(test_dict[b'fine_labels'][:100])\n",
    "else:\n",
    "    train_data = torch.from_numpy(train_dict[b'data'])\n",
    "    train_y = torch.tensor(train_dict[b'fine_labels'])\n",
    "    test_data = torch.from_numpy(test_dict[b'data'])\n",
    "    test_y = torch.tensor(test_dict[b'fine_labels'])"
   ]
  },
  {
   "cell_type": "code",
   "execution_count": 194,
   "metadata": {},
   "outputs": [],
   "source": [
    "def see_plot(phase, sample_id, test_y = test_y, label_names = label_names, test_data = test_data, train_y = train_y, train_data = train_data):\n",
    "    \n",
    "    if phase == 'train':\n",
    "        data = train_data\n",
    "        y = train_y\n",
    "    elif phase == 'test':\n",
    "        data = test_data\n",
    "        y = test_y\n",
    "    assert sample_id < len(data)\n",
    "    plt.imshow(data[sample_id].numpy().reshape(-1,3, order = 'F').reshape(32,32,3))\n",
    "    labeli = y[sample_id].item()\n",
    "    plt.title('label: ' + label_names[labeli].decode(\"utf-8\") + ', label id: ' + str(labeli))"
   ]
  },
  {
   "cell_type": "code",
   "execution_count": 195,
   "metadata": {},
   "outputs": [
    {
     "data": {
      "image/png": "[encoded data removed]",
      "text/plain": [
       "<Figure size 432x288 with 1 Axes>"
      ]
     },
     "metadata": {
      "needs_background": "light"
     },
     "output_type": "display_data"
    }
   ],
   "source": [
    "# see pictures by sample id\n",
    "see_plot('train', 16)"
   ]
  },
  {
   "cell_type": "code",
   "execution_count": 196,
   "metadata": {},
   "outputs": [],
   "source": [
    "def sampleFromClass(ds, k): \n",
    "    #k: number of samples needed to each class in test set\n",
    "    class_counts = {}\n",
    "    train_data = []\n",
    "    train_label = []\n",
    "    test_data = []\n",
    "    test_label = []\n",
    "    for data, label in ds:\n",
    "        c = label.item()\n",
    "        class_counts[c] = class_counts.get(c, 0) + 1\n",
    "        if class_counts[c] > k:\n",
    "            train_data.append(data)\n",
    "            train_label.append(torch.unsqueeze(label, 0))\n",
    "        else:\n",
    "            test_data.append(data)\n",
    "            test_label.append(torch.unsqueeze(label, 0))\n",
    "    train_data = torch.stack(train_data)\n",
    "    train_label = torch.cat(train_label)\n",
    "    test_data = torch.stack(test_data)\n",
    "    test_label = torch.cat(test_label)\n",
    "\n",
    "    return ((train_data, train_label), \n",
    "        (test_data, test_label))"
   ]
  },
  {
   "cell_type": "code",
   "execution_count": 197,
   "metadata": {},
   "outputs": [],
   "source": [
    "if ENABLE_VAL:\n",
    "    train_dataset, validation_dataset = sampleFromClass(list(zip(train_data, train_y)), k)\n",
    "else:\n",
    "    train_dataset = train_data, train_y\n",
    "test_dataset = test_data, test_y"
   ]
  },
  {
   "cell_type": "code",
   "execution_count": 198,
   "metadata": {},
   "outputs": [
    {
     "name": "stdout",
     "output_type": "stream",
     "text": [
      "mean for 3 channels :  tensor([125.3588, 122.7590, 110.8747])\n",
      "std  for 3 channels :  tensor([67.4012, 65.8902, 71.2648])\n"
     ]
    }
   ],
   "source": [
    "print(\"mean for 3 channels : \", reshape_images(train_dataset[0]).mean((0, 2, 3)))\n",
    "print(\"std  for 3 channels : \", reshape_images(train_dataset[0]).std((0, 2, 3)))"
   ]
  },
  {
   "cell_type": "code",
   "execution_count": 199,
   "metadata": {},
   "outputs": [],
   "source": [
    "#transforms\n",
    "train_transform_image = transforms.Compose([\n",
    "        transforms.ToPILImage(),\n",
    "        transforms.Resize(224),\n",
    "        transforms.RandomHorizontalFlip(p=0.5),\n",
    "        transforms.ToTensor(), \n",
    "        transforms.Normalize(mean=[0.5, 0.5, 0.5], std=[0.5, 0.5, 0.5])\n",
    "        # transforms.Normalize(mean=[85.5980, 85.5980, 85.5980], std=[68.1695, 65.3810, 70.4030])\n",
    "])\n",
    "\n",
    "if ENABLE_VAL:\n",
    "    val_transform_image = transforms.Compose([\n",
    "            transforms.ToPILImage(),\n",
    "            transforms.Resize(224),\n",
    "            transforms.ToTensor(), \n",
    "            transforms.Normalize(mean=[0.5, 0.5, 0.5], std=[0.5, 0.5, 0.5])\n",
    "            # transforms.Normalize(mean=[85.5980, 85.5980, 85.5980], std=[68.1695, 65.3810, 70.4030])\n",
    "    ])"
   ]
  },
  {
   "cell_type": "code",
   "execution_count": 200,
   "metadata": {},
   "outputs": [],
   "source": [
    "class CIFAR_Dataset(Dataset):\n",
    "    \n",
    "    def __init__(self, X, Y, transforms = None):\n",
    "        self.X = X\n",
    "        self.Y = Y\n",
    "        self.transforms = transforms\n",
    "        \n",
    "    def __len__(self):\n",
    "        return len(self.Y)\n",
    "    \n",
    "    def __getitem__(self, index):\n",
    "        image = self.X[index]\n",
    "        label = self.Y[index]\n",
    "        \n",
    "        if self.transforms != None:\n",
    "            image = self.transforms(image)\n",
    "        \n",
    "        return image, label"
   ]
  },
  {
   "cell_type": "code",
   "execution_count": 201,
   "metadata": {},
   "outputs": [],
   "source": [
    "train_images = CIFAR_Dataset(reshape_images(train_dataset[0]), train_dataset[1], transforms = train_transform_image)\n",
    "if ENABLE_VAL:\n",
    "    val_images = CIFAR_Dataset(reshape_images(validation_dataset[0]), validation_dataset[1], transforms =  val_transform_image)\n",
    "test_images = CIFAR_Dataset(reshape_images(test_dataset[0]), test_dataset[1], transforms =  val_transform_image)"
   ]
  },
  {
   "cell_type": "code",
   "execution_count": 202,
   "metadata": {},
   "outputs": [],
   "source": [
    "trainloader = torch.utils.data.DataLoader(train_images, batch_size=16, shuffle=True)\n",
    "if ENABLE_VAL:\n",
    "    valloader = torch.utils.data.DataLoader(val_images, batch_size=16, shuffle=True)\n",
    "testloader = torch.utils.data.DataLoader(test_images, batch_size=len(test_images), shuffle=False)"
   ]
  },
  {
   "cell_type": "code",
   "execution_count": 203,
   "metadata": {},
   "outputs": [],
   "source": [
    "dset_loaders = {'train': trainloader, 'test': testloader}\n",
    "dset_sizes = {'train': len(trainloader.dataset), 'test': len(testloader.dataset)}\n",
    "if ENABLE_VAL:\n",
    "    dset_loaders = {'train': trainloader, 'val': valloader, 'test': testloader}\n",
    "    dset_sizes = {'train': len(trainloader.dataset), 'val': len(valloader.dataset), 'test': len(testloader.dataset)}"
   ]
  },
  {
   "cell_type": "markdown",
   "metadata": {},
   "source": [
    "## Load Model and Utilities"
   ]
  },
  {
   "cell_type": "code",
   "execution_count": 263,
   "metadata": {},
   "outputs": [],
   "source": [
    "#train model\n",
    "def train_model(model, criterion, optimizer, lr_scheduler, num_epochs=5):\n",
    "    \n",
    "    model.to(DEVICE)\n",
    "    since = time.time()\n",
    "\n",
    "    best_model = model\n",
    "    best_acc = 0.0\n",
    "    if ENABLE_VAL:\n",
    "        phases = ['train', 'val']\n",
    "    else:\n",
    "        phases = ['train']\n",
    "        \n",
    "    for epoch in range(num_epochs):\n",
    "        print('Epoch {}/{}'.format(epoch, num_epochs - 1))\n",
    "        print('-' * 10)\n",
    "\n",
    "        # Each epoch has a training and validation phase\n",
    "        for phase in phases:\n",
    "            if phase == 'train':\n",
    "                mode='train'\n",
    "                optimizer = lr_scheduler(optimizer, epoch)\n",
    "                model.train()  # Set model to training mode\n",
    "            else:\n",
    "                model.eval()\n",
    "                mode='val'\n",
    "\n",
    "            running_loss = 0.0\n",
    "            running_corrects = 0\n",
    "\n",
    "            # Iterate over data.\n",
    "            for index, (inputs, labels) in enumerate(dset_loaders[phase]):\n",
    "                \n",
    "                inputs, labels = inputs.float().to(DEVICE), labels.long().to(DEVICE)\n",
    "\n",
    "                # Set gradient to zero to delete history of computations in previous epoch. Track operations so that differentiation can be done automatically.\n",
    "                optimizer.zero_grad()\n",
    "                \n",
    "                outputs = model(inputs)\n",
    "                _, preds = torch.max(outputs.data, 1)\n",
    "                \n",
    "                loss = criterion(outputs, labels)\n",
    "\n",
    "                # backward + optimize only if in training phase\n",
    "                if phase == 'train':\n",
    "                    loss = Variable(loss, requires_grad = True)\n",
    "                    loss.backward()\n",
    "                    optimizer.step()\n",
    "                    \n",
    "                running_loss += loss.item()\n",
    "                running_corrects += torch.sum(preds == labels.data)\n",
    "                \n",
    "                if index % 500 == 0 and index > 0:\n",
    "                    print('{}/{} with loss {:.4f}'.format(index, dset_sizes['train']/16, running_loss/index))\n",
    "                \n",
    "            epoch_loss = running_loss / dset_sizes[phase]\n",
    "            epoch_acc = running_corrects.item() / float(dset_sizes[phase])\n",
    "            print('{} Loss: {:.4f} Acc: {:.4f}'.format(\n",
    "                phase, epoch_loss, epoch_acc))\n",
    "\n",
    "\n",
    "            # deep copy the model\n",
    "            if phase == 'val':\n",
    "                if USE_TENSORBOARD:\n",
    "                    foo.add_scalar('epoch_loss',epoch_loss,epoch)\n",
    "                    foo.add_scalar('epoch_acc',epoch_acc,epoch)\n",
    "                if epoch_acc > best_acc:\n",
    "                    best_acc = epoch_acc\n",
    "                    best_model = copy.deepcopy(model)\n",
    "                    pickle.dump(best_model, open('best_model.pkl', 'wb'))\n",
    "                    print('new best accuracy = ',best_acc)\n",
    "    time_elapsed = time.time() - since\n",
    "    print('Training complete in {:.0f}m {:.0f}s'.format(\n",
    "        time_elapsed // 60, time_elapsed % 60))\n",
    "    print('Best val Acc: {:4f}'.format(best_acc))\n",
    "    print('returning and looping back')\n",
    "    if USE_TENSORBOARD:\n",
    "        foo.close()\n",
    "    return best_model\n",
    "\n",
    "# This function changes the learning rate over the training model.\n",
    "def exp_lr_scheduler(optimizer, epoch, init_lr=BASE_LR, lr_decay_epoch=EPOCH_DECAY):\n",
    "    \"\"\"Decay learning rate by a factor of DECAY_WEIGHT every lr_decay_epoch epochs.\"\"\"\n",
    "    lr = init_lr * (DECAY_WEIGHT**(epoch // lr_decay_epoch))\n",
    "\n",
    "    if epoch % lr_decay_epoch == 0:\n",
    "        print('LR is set to {}'.format(lr))\n",
    "\n",
    "    for param_group in optimizer.param_groups:\n",
    "        param_group['lr'] = lr\n",
    "\n",
    "    return optimizer\n",
    "\n",
    "#test model\n",
    "def test_model(model):\n",
    "    model.to(DEVICE)\n",
    "    model.eval()\n",
    "    \n",
    "    running_loss = 0\n",
    "    running_corrects = 0\n",
    "    \n",
    "    for inputs, labels in dset_loaders['test']:\n",
    "        inputs, labels = inputs.to(DEVICE), labels.to(DEVICE)\n",
    "        outputs = model(inputs)\n",
    "        _, preds = torch.max(outputs.data, 1)\n",
    "        corrects = torch.sum(preds == labels.data) \n",
    "        loss = criterion(outputs, labels)\n",
    "        running_loss += loss\n",
    "        running_corrects += corrects\n",
    "    accuracy = (running_corrects / float(dset_sizes['test'])).item()\n",
    "    loss = (running_loss / dset_sizes['test']).item()\n",
    "    print('{} Loss: {:.4f} Acc: {:.4f}'.format(\n",
    "                'test', loss, accuracy))\n",
    "    return loss, accuracy"
   ]
  },
  {
   "cell_type": "code",
   "execution_count": 205,
   "metadata": {},
   "outputs": [],
   "source": [
    "def set_parameter_requires_grad(model, feature_extracting = True):\n",
    "    if feature_extracting:\n",
    "        for param in model.features.parameters():\n",
    "            param.requires_grad = False"
   ]
  },
  {
   "cell_type": "code",
   "execution_count": 206,
   "metadata": {},
   "outputs": [],
   "source": [
    "#setting model, criterion and optimers\n",
    "vgg16 = models.vgg16(pretrained = True)\n",
    "#change target output features count into 100\n",
    "set_parameter_requires_grad(vgg16, feature_extracting = True)\n",
    "vgg16.classifier[-1] = nn.Linear(in_features=4096, out_features=100, bias = True)"
   ]
  },
  {
   "cell_type": "code",
   "execution_count": 207,
   "metadata": {},
   "outputs": [],
   "source": [
    "criterion = torch.nn.CrossEntropyLoss()\n",
    "optimizer = torch.optim.Adam(vgg16.parameters(), lr=0.001)"
   ]
  },
  {
   "cell_type": "code",
   "execution_count": 208,
   "metadata": {},
   "outputs": [
    {
     "name": "stdout",
     "output_type": "stream",
     "text": [
      "Epoch 0/2\n",
      "----------\n",
      "LR is set to 0.001\n",
      "train Loss: 0.3546 Acc: 0.0100\n",
      "Epoch 1/2\n",
      "----------\n",
      "train Loss: 0.2888 Acc: 0.1300\n",
      "Epoch 2/2\n",
      "----------\n",
      "train Loss: 0.2682 Acc: 0.1600\n",
      "Training complete in 2m 27s\n",
      "Best val Acc: 0.000000\n",
      "returning and looping back\n"
     ]
    }
   ],
   "source": [
    "train_model(vgg16, criterion, optimizer, exp_lr_scheduler, num_epochs = 3);"
   ]
  },
  {
   "cell_type": "code",
   "execution_count": 209,
   "metadata": {},
   "outputs": [
    {
     "name": "stdout",
     "output_type": "stream",
     "text": [
      "test Loss: 0.0486 Acc: 0.0200\n",
      "0.048613712191581726 0.019999999552965164\n"
     ]
    }
   ],
   "source": [
    "loss, accuracy = test_model(vgg16)\n",
    "print(loss, accuracy)"
   ]
  },
  {
   "cell_type": "code",
   "execution_count": 210,
   "metadata": {},
   "outputs": [],
   "source": [
    "#visualize tensorboard -- a little buggy...\n",
    "if USE_TENSORBOARD:\n",
    "    %load_ext tensorboard\n",
    "    %tensorboard --logdir=runs"
   ]
  },
  {
   "cell_type": "markdown",
   "metadata": {},
   "source": [
    "## Quantization"
   ]
  },
  {
   "cell_type": "code",
   "execution_count": 226,
   "metadata": {},
   "outputs": [],
   "source": [
    "def print_size_of_model(model, label=\"\"):\n",
    "    torch.save(model.state_dict(), \"temp.p\")\n",
    "    size=os.path.getsize(\"temp.p\")\n",
    "    print(\"model: \",label,' \\t','Size (KB):', size/1e3)\n",
    "    os.remove('temp.p')\n",
    "    return size"
   ]
  },
  {
   "cell_type": "markdown",
   "metadata": {},
   "source": [
    "### Quant Dynamics with no retrain"
   ]
  },
  {
   "cell_type": "code",
   "execution_count": 211,
   "metadata": {},
   "outputs": [
    {
     "name": "stdout",
     "output_type": "stream",
     "text": [
      "test Loss: 0.0486 Acc: 0.0200\n",
      "0.04860617220401764 0.019999999552965164\n"
     ]
    }
   ],
   "source": [
    "vgg16_quant1 = torch.quantization.quantize_dynamic(\n",
    "    vgg16,  # the original model\n",
    "    {torch.nn.Linear},  # a set of layers to dynamically quantize\n",
    "    dtype=torch.qint8)  # the target dtype for quantized weights\n",
    "loss, accuracy = test_model(vgg16_quant1)\n",
    "print(loss, accuracy)"
   ]
  },
  {
   "cell_type": "code",
   "execution_count": 228,
   "metadata": {},
   "outputs": [
    {
     "name": "stdout",
     "output_type": "stream",
     "text": [
      "model:  baseline  \t Size (KB): 538686.817\n",
      "model:  dynamic quantization  \t Size (KB): 178846.257\n",
      "3.01 times smaller\n"
     ]
    }
   ],
   "source": [
    "# compare the sizes\n",
    "f=print_size_of_model(vgg16,\"baseline\")\n",
    "q=print_size_of_model(vgg16_quant1,\"dynamic quantization\")\n",
    "print(\"{0:.2f} times smaller\".format(f/q))"
   ]
  },
  {
   "cell_type": "markdown",
   "metadata": {},
   "source": [
    "### Quant Static with no retrain"
   ]
  },
  {
   "cell_type": "code",
   "execution_count": 258,
   "metadata": {},
   "outputs": [],
   "source": [
    "vgg16_quant2 = copy.deepcopy(vgg16)\n",
    "#add layers\n",
    "set_parameter_requires_grad(vgg16_quant2, feature_extracting = True)\n",
    "vgg16_quant2.features = nn.Sequential(torch.quantization.QuantStub(), vgg16_quant2.features)\n",
    "vgg16_quant2.classifier = nn.Sequential(vgg16_quant2.classifier, torch.quantization.DeQuantStub())\n",
    "#set configs\n",
    "vgg16_quant2.qconfig = torch.quantization.get_default_qconfig('fbgemm')\n",
    "vgg16_quant2 = torch.quantization.prepare(vgg16_quant2)\n",
    "# l = list(vgg16_quant2.named_modules())\n",
    "# vgg16_quant2 = torch.quantization.fuse_modules(vgg16_quant2, [['features.1.0', 'features.1.1']])\n",
    "vgg16_quant2 = torch.quantization.convert(vgg16_quant2)"
   ]
  },
  {
   "cell_type": "code",
   "execution_count": 259,
   "metadata": {},
   "outputs": [
    {
     "name": "stdout",
     "output_type": "stream",
     "text": [
      "test Loss: 0.0461 Acc: 0.0000\n",
      "0.04605165496468544 0.0\n"
     ]
    }
   ],
   "source": [
    "loss, accuracy = test_model(vgg16_quant2)\n",
    "print(loss, accuracy)"
   ]
  },
  {
   "cell_type": "code",
   "execution_count": 260,
   "metadata": {},
   "outputs": [
    {
     "name": "stdout",
     "output_type": "stream",
     "text": [
      "model:  baseline  \t Size (KB): 538686.817\n",
      "model:  static quantization  \t Size (KB): 134857.157\n",
      "3.99 times smaller\n"
     ]
    }
   ],
   "source": [
    "# compare the sizes\n",
    "f=print_size_of_model(vgg16,\"baseline\")\n",
    "q=print_size_of_model(vgg16_quant2,\"static quantization\")\n",
    "print(\"{0:.2f} times smaller\".format(f/q))"
   ]
  },
  {
   "cell_type": "markdown",
   "metadata": {},
   "source": [
    "### Quant Static with Retrain"
   ]
  },
  {
   "cell_type": "code",
   "execution_count": 264,
   "metadata": {},
   "outputs": [
    {
     "name": "stdout",
     "output_type": "stream",
     "text": [
      "Epoch 0/0\n",
      "----------\n",
      "LR is set to 0.001\n",
      "train Loss: 0.1743 Acc: 0.4400\n",
      "Training complete in 0m 52s\n",
      "Best val Acc: 0.000000\n",
      "returning and looping back\n"
     ]
    }
   ],
   "source": [
    "vgg16_quant3 = copy.deepcopy(vgg16)\n",
    "#add layers\n",
    "vgg16_quant3.features = nn.Sequential(torch.quantization.QuantStub(), vgg16_quant3.features)\n",
    "vgg16_quant3.classifier = nn.Sequential(vgg16_quant3.classifier, torch.quantization.DeQuantStub())\n",
    "#set configs\n",
    "vgg16_quant3.qconfig = torch.quantization.get_default_qconfig('fbgemm')\n",
    "vgg16_quant3 = torch.quantization.prepare_qat(vgg16_quant3)\n",
    "#retrain\n",
    "criterion = torch.nn.CrossEntropyLoss()\n",
    "optimizer = torch.optim.Adam(vgg16_quant3.parameters(), lr=0.001)\n",
    "train_model(vgg16_quant3, criterion, optimizer, exp_lr_scheduler, num_epochs = 1);\n",
    "vgg16_quant3.eval()\n",
    "vgg16_quant3 = torch.quantization.convert(vgg16_quant3)\n"
   ]
  },
  {
   "cell_type": "code",
   "execution_count": 265,
   "metadata": {},
   "outputs": [
    {
     "name": "stdout",
     "output_type": "stream",
     "text": [
      "test Loss: 0.0485 Acc: 0.0200\n",
      "0.048465121537446976 0.019999999552965164\n"
     ]
    }
   ],
   "source": [
    "loss, accuracy = test_model(vgg16_quant3)\n",
    "print(loss, accuracy)"
   ]
  },
  {
   "cell_type": "code",
   "execution_count": 266,
   "metadata": {},
   "outputs": [
    {
     "name": "stdout",
     "output_type": "stream",
     "text": [
      "model:  baseline  \t Size (KB): 538686.817\n",
      "model:  static quantization with retrain  \t Size (KB): 134857.157\n",
      "3.99 times smaller\n"
     ]
    }
   ],
   "source": [
    "# compare the sizes\n",
    "f=print_size_of_model(vgg16,\"baseline\")\n",
    "q=print_size_of_model(vgg16_quant3,\"static quantization with retrain\")\n",
    "print(\"{0:.2f} times smaller\".format(f/q))"
   ]
  },
  {
   "cell_type": "code",
   "execution_count": null,
   "metadata": {},
   "outputs": [],
   "source": []
  }
 ],
 "metadata": {
  "kernelspec": {
   "display_name": "Python 3",
   "language": "python",
   "name": "python3"
  },
  "language_info": {
   "codemirror_mode": {
    "name": "ipython",
    "version": 3
   },
   "file_extension": ".py",
   "mimetype": "text/x-python",
   "name": "python",
   "nbconvert_exporter": "python",
   "pygments_lexer": "ipython3",
   "version": "3.7.7"
  }
 },
 "nbformat": 4,
 "nbformat_minor": 4
}
