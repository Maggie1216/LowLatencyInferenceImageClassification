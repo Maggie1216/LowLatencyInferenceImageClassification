{
 "cells": [
  {
   "cell_type": "code",
   "execution_count": 3,
   "metadata": {},
   "outputs": [],
   "source": [
    "#imports\n",
    "import torch\n",
    "import numpy as np\n",
    "import pandas as pd\n",
    "import torchvision.models as models\n",
    "from torch.utils.tensorboard import SummaryWriter\n",
    "import seaborn as sns\n",
    "import matplotlib.pyplot as plt\n",
    "from torch.utils.data import TensorDataset\n",
    "import time\n",
    "import torch.nn as nn\n",
    "import torch.optim as optim\n",
    "from torch.autograd import Variable\n",
    "import torchvision\n",
    "from torchvision import datasets, models, transforms\n",
    "import matplotlib.pyplot as plt\n",
    "import copy\n",
    "import os\n",
    "import pickle"
   ]
  },
  {
   "cell_type": "code",
   "execution_count": 4,
   "metadata": {},
   "outputs": [],
   "source": [
    "#read files\n",
    "def unpickle(file):\n",
    "    \n",
    "    with open(file, 'rb') as fo:\n",
    "        dict = pickle.load(fo, encoding='bytes')\n",
    "    return dict"
   ]
  },
  {
   "cell_type": "code",
   "execution_count": 5,
   "metadata": {},
   "outputs": [],
   "source": [
    "#data processing\n",
    "def reshape_images(data_dict):\n",
    "    reshaped = data_dict.numpy().reshape(len(data_dict), 1024, 3, order = 'F').reshape(len(data_dict), 32,32,3)\n",
    "    reshaped_processed = torch.from_numpy(reshaped).float().permute(0, 3, 1, 2)\n",
    "    return reshaped_processed"
   ]
  },
  {
   "cell_type": "markdown",
   "metadata": {},
   "source": [
    "## Settings"
   ]
  },
  {
   "cell_type": "code",
   "execution_count": 6,
   "metadata": {},
   "outputs": [],
   "source": [
    "#data settings\n",
    "subset = True #for local running\n",
    "k = 3 #number of samples needed to each class in validation set, because we need to split train and validation\n",
    "\n",
    "#model settings\n",
    "USE_TENSORBOARD = False\n",
    "if USE_TENSORBOARD:\n",
    "    foo = SummaryWriter()\n",
    "use_gpu = False\n",
    "\n",
    "#lr scheduler\n",
    "BASE_LR = 0.001\n",
    "EPOCH_DECAY = 4\n",
    "DECAY_WEIGHT = 0.5"
   ]
  },
  {
   "cell_type": "markdown",
   "metadata": {},
   "source": [
    "## Load Data and Process"
   ]
  },
  {
   "cell_type": "code",
   "execution_count": 7,
   "metadata": {},
   "outputs": [],
   "source": [
    "test_dict = unpickle('./cifar-100-python/test')\n",
    "train_dict = unpickle('./cifar-100-python/train')\n",
    "meta = unpickle('./cifar-100-python/meta')"
   ]
  },
  {
   "cell_type": "code",
   "execution_count": 8,
   "metadata": {},
   "outputs": [],
   "source": [
    "label_names = meta[b'fine_label_names']"
   ]
  },
  {
   "cell_type": "code",
   "execution_count": 9,
   "metadata": {},
   "outputs": [],
   "source": [
    "if subset:\n",
    "    train_data = torch.from_numpy(train_dict[b'data'][:1000])\n",
    "    train_y = torch.tensor(train_dict[b'fine_labels'][:1000])\n",
    "    test_data = torch.from_numpy(test_dict[b'data'][:100])\n",
    "    test_y = torch.tensor(test_dict[b'fine_labels'][:100])\n",
    "else:\n",
    "    train_data = torch.from_numpy(train_dict[b'data'])\n",
    "    train_y = torch.tensor(train_dict[b'fine_labels'])\n",
    "    test_data = torch.from_numpy(test_dict[b'data'])\n",
    "    test_y = torch.tensor(test_dict[b'fine_labels'])"
   ]
  },
  {
   "cell_type": "code",
   "execution_count": 10,
   "metadata": {},
   "outputs": [],
   "source": [
    "def see_plot(phase, sample_id, test_y = test_y, label_names = label_names, test_data = test_data, train_y = train_y, train_data = train_data):\n",
    "    \n",
    "    if phase == 'train':\n",
    "        data = train_data\n",
    "        y = train_y\n",
    "    elif phase == 'test':\n",
    "        data = test_data\n",
    "        y = test_y\n",
    "    assert sample_id < len(data)\n",
    "    plt.imshow(data[sample_id].numpy().reshape(-1,3, order = 'F').reshape(32,32,3))\n",
    "    labeli = y[sample_id].item()\n",
    "    plt.title('label: ' + label_names[labeli].decode(\"utf-8\") + ', label id: ' + str(labeli))"
   ]
  },
  {
   "cell_type": "code",
   "execution_count": 11,
   "metadata": {},
   "outputs": [
    {
     "data": {
      "image/png": "[encoded data removed]",
      "text/plain": [
       "<Figure size 432x288 with 1 Axes>"
      ]
     },
     "metadata": {
      "needs_background": "light"
     },
     "output_type": "display_data"
    }
   ],
   "source": [
    "# see pictures by sample id\n",
    "see_plot('train', 500)"
   ]
  },
  {
   "cell_type": "code",
   "execution_count": 12,
   "metadata": {},
   "outputs": [],
   "source": [
    "def sampleFromClass(ds, k): \n",
    "    #k: number of samples needed to each class in test set\n",
    "    class_counts = {}\n",
    "    train_data = []\n",
    "    train_label = []\n",
    "    test_data = []\n",
    "    test_label = []\n",
    "    for data, label in ds:\n",
    "        c = label.item()\n",
    "        class_counts[c] = class_counts.get(c, 0) + 1\n",
    "        if class_counts[c] > k:\n",
    "            train_data.append(data)\n",
    "            train_label.append(torch.unsqueeze(label, 0))\n",
    "        else:\n",
    "            test_data.append(data)\n",
    "            test_label.append(torch.unsqueeze(label, 0))\n",
    "    train_data = torch.stack(train_data)\n",
    "    train_label = torch.cat(train_label)\n",
    "    test_data = torch.stack(test_data)\n",
    "    test_label = torch.cat(test_label)\n",
    "\n",
    "    return ((train_data, train_label), \n",
    "        (test_data, test_label))"
   ]
  },
  {
   "cell_type": "code",
   "execution_count": 13,
   "metadata": {},
   "outputs": [],
   "source": [
    "train_dataset, validation_dataset = sampleFromClass(list(zip(train_data, train_y)), k)\n",
    "test_dataset = test_data, test_y"
   ]
  },
  {
   "cell_type": "code",
   "execution_count": 14,
   "metadata": {},
   "outputs": [],
   "source": [
    "train_images = TensorDataset(reshape_images(train_dataset[0]), train_dataset[1])\n",
    "val_images = TensorDataset(reshape_images(validation_dataset[0]), validation_dataset[1])\n",
    "test_images = TensorDataset(reshape_images(test_dataset[0]), test_dataset[1])"
   ]
  },
  {
   "cell_type": "code",
   "execution_count": 15,
   "metadata": {},
   "outputs": [],
   "source": [
    "trainloader = torch.utils.data.DataLoader(train_images, batch_size=64, shuffle=True)\n",
    "valloader = torch.utils.data.DataLoader(val_images, batch_size=64, shuffle=True)\n",
    "testloader = torch.utils.data.DataLoader(test_images, batch_size=len(test_images), shuffle=False)"
   ]
  },
  {
   "cell_type": "code",
   "execution_count": 16,
   "metadata": {},
   "outputs": [],
   "source": [
    "dset_loaders = {'train': trainloader, 'val': valloader, 'test': testloader}\n",
    "dset_sizes = {'train': len(trainloader.dataset), 'val': len(valloader.dataset), 'test': len(testloader.dataset)}"
   ]
  },
  {
   "cell_type": "markdown",
   "metadata": {},
   "source": [
    "## Load Model and Utilities"
   ]
  },
  {
   "cell_type": "code",
   "execution_count": 20,
   "metadata": {},
   "outputs": [],
   "source": [
    "#train model\n",
    "def train_model(model, criterion, optimizer, lr_scheduler, num_epochs=5):\n",
    "    since = time.time()\n",
    "\n",
    "    best_model = model\n",
    "    best_acc = 0.0\n",
    "\n",
    "    for epoch in range(num_epochs):\n",
    "        print('Epoch {}/{}'.format(epoch, num_epochs - 1))\n",
    "        print('-' * 10)\n",
    "\n",
    "        # Each epoch has a training and validation phase\n",
    "        for phase in ['train', 'val']:\n",
    "            if phase == 'train':\n",
    "                mode='train'\n",
    "                optimizer = lr_scheduler(optimizer, epoch)\n",
    "                model.train()  # Set model to training mode\n",
    "            else:\n",
    "                model.eval()\n",
    "                mode='val'\n",
    "\n",
    "            running_loss = 0.0\n",
    "            running_corrects = 0\n",
    "\n",
    "            counter=0\n",
    "            # Iterate over data.\n",
    "            for data in dset_loaders[phase]:\n",
    "                inputs, labels = data\n",
    "                #print(inputs.size())\n",
    "                # wrap them in Variable\n",
    "                if use_gpu:\n",
    "                    try:\n",
    "                        inputs, labels = Variable(inputs.float().cuda()),                             \n",
    "                        Variable(labels.long().cuda())\n",
    "                    except:\n",
    "                        print(inputs,labels)\n",
    "                else:\n",
    "                    inputs, labels = Variable(inputs), Variable(labels)\n",
    "\n",
    "                # Set gradient to zero to delete history of computations in previous epoch. Track operations so that differentiation can be done automatically.\n",
    "                optimizer.zero_grad()\n",
    "                outputs = model(inputs)\n",
    "                _, preds = torch.max(outputs.data, 1)\n",
    "                \n",
    "                loss = criterion(outputs, labels)\n",
    "                # print('loss done')                \n",
    "                # Just so that you can keep track that something's happening and don't feel like the program isn't running.\n",
    "                # if counter%10==0:\n",
    "                #     print(\"Reached iteration \",counter)\n",
    "                counter+=1\n",
    "\n",
    "                # backward + optimize only if in training phase\n",
    "                if phase == 'train':\n",
    "                    # print('loss backward')\n",
    "                    loss.backward()\n",
    "                    # print('done loss backward')\n",
    "                    optimizer.step()\n",
    "                    # print('done optim')\n",
    "                # print evaluation statistics\n",
    "                try:\n",
    "                    # running_loss += loss.data[0]\n",
    "                    running_loss += loss.item()\n",
    "                    # print(labels.data)\n",
    "                    # print(preds)\n",
    "                    running_corrects += torch.sum(preds == labels.data)\n",
    "                    # print('running correct =',running_corrects)\n",
    "                except:\n",
    "                    print('unexpected error, could not calculate loss or do a sum.')\n",
    "            epoch_loss = running_loss / dset_sizes[phase]\n",
    "            epoch_acc = running_corrects.item() / float(dset_sizes[phase])\n",
    "            print('{} Loss: {:.4f} Acc: {:.4f}'.format(\n",
    "                phase, epoch_loss, epoch_acc))\n",
    "\n",
    "\n",
    "            # deep copy the model\n",
    "            if phase == 'val':\n",
    "                if USE_TENSORBOARD:\n",
    "                    foo.add_scalar('epoch_loss',epoch_loss,epoch)\n",
    "                    foo.add_scalar('epoch_acc',epoch_acc,epoch)\n",
    "                if epoch_acc > best_acc:\n",
    "                    best_acc = epoch_acc\n",
    "                    best_model = copy.deepcopy(model)\n",
    "                    print('new best accuracy = ',best_acc)\n",
    "    time_elapsed = time.time() - since\n",
    "    print('Training complete in {:.0f}m {:.0f}s'.format(\n",
    "        time_elapsed // 60, time_elapsed % 60))\n",
    "    print('Best val Acc: {:4f}'.format(best_acc))\n",
    "    print('returning and looping back')\n",
    "    if USE_TENSORBOARD:\n",
    "        foo.close()\n",
    "    return best_model\n",
    "\n",
    "# This function changes the learning rate over the training model.\n",
    "def exp_lr_scheduler(optimizer, epoch, init_lr=BASE_LR, lr_decay_epoch=EPOCH_DECAY):\n",
    "    \"\"\"Decay learning rate by a factor of DECAY_WEIGHT every lr_decay_epoch epochs.\"\"\"\n",
    "    lr = init_lr * (DECAY_WEIGHT**(epoch // lr_decay_epoch))\n",
    "\n",
    "    if epoch % lr_decay_epoch == 0:\n",
    "        print('LR is set to {}'.format(lr))\n",
    "\n",
    "    for param_group in optimizer.param_groups:\n",
    "        param_group['lr'] = lr\n",
    "\n",
    "    return optimizer\n",
    "\n",
    "#test model\n",
    "def test_model(model):\n",
    "    model.eval()\n",
    "    running_loss = 0\n",
    "    running_corrects = 0\n",
    "    for data in dset_loaders['test']:\n",
    "        inputs, labels = data\n",
    "        outputs = model(inputs)\n",
    "        _, preds = torch.max(outputs.data, 1)\n",
    "        corrects = torch.sum(preds == labels.data) \n",
    "        loss = criterion(outputs, labels)\n",
    "        running_loss += loss\n",
    "        running_corrects += corrects\n",
    "    accuracy = (running_corrects / float(dset_sizes['test'])).item()\n",
    "    loss = (running_loss / dset_sizes['test']).item()\n",
    "    print('{} Loss: {:.4f} Acc: {:.4f}'.format(\n",
    "                'test', loss, accuracy))\n",
    "    return loss, accuracy"
   ]
  },
  {
   "cell_type": "code",
   "execution_count": 21,
   "metadata": {},
   "outputs": [],
   "source": [
    "#setting model, criterion and optimers\n",
    "vgg16 = models.vgg16(pretrained = True)\n",
    "#change target output features count into 100\n",
    "vgg16.classifier[-1] = nn.Linear(in_features=4096, out_features=100, bias = True)\n",
    "criterion = torch.nn.CrossEntropyLoss()\n",
    "optimizer = torch.optim.Adam(vgg16.parameters(), lr=0.001)"
   ]
  },
  {
   "cell_type": "code",
   "execution_count": 22,
   "metadata": {},
   "outputs": [
    {
     "name": "stdout",
     "output_type": "stream",
     "text": [
      "Epoch 0/1\n",
      "----------\n",
      "LR is set to 0.001\n",
      "trying epoch loss\n",
      "train Loss: 0.1695 Acc: 0.0143\n",
      "trying epoch loss\n",
      "val Loss: 0.0869 Acc: 0.0100\n",
      "new best accuracy =  0.01\n",
      "Epoch 1/1\n",
      "----------\n",
      "trying epoch loss\n",
      "train Loss: 0.0750 Acc: 0.0100\n",
      "trying epoch loss\n",
      "val Loss: 0.0783 Acc: 0.0100\n",
      "Training complete in 1m 26s\n",
      "Best val Acc: 0.010000\n",
      "returning and looping back\n"
     ]
    }
   ],
   "source": [
    "train_model(vgg16, criterion, optimizer, exp_lr_scheduler, num_epochs=2);"
   ]
  },
  {
   "cell_type": "code",
   "execution_count": 23,
   "metadata": {},
   "outputs": [
    {
     "name": "stdout",
     "output_type": "stream",
     "text": [
      "test Loss: 0.0469 Acc: 0.0100\n"
     ]
    }
   ],
   "source": [
    "loss, accuracy = test_model(vgg16)"
   ]
  },
  {
   "cell_type": "code",
   "execution_count": 415,
   "metadata": {},
   "outputs": [
    {
     "name": "stdout",
     "output_type": "stream",
     "text": [
      "[libprotobuf ERROR external/protobuf_archive/src/google/protobuf/descriptor_database.cc:334] Invalid file descriptor data passed to EncodedDescriptorDatabase::Add().\r\n",
      "[libprotobuf FATAL external/protobuf_archive/src/google/protobuf/descriptor.cc:1370] CHECK failed: GeneratedDatabase()->Add(encoded_file_descriptor, size): \r\n",
      "libc++abi.dylib: terminating with uncaught exception of type google::protobuf::FatalException: CHECK failed: GeneratedDatabase()->Add(encoded_file_descriptor, size): \r\n"
     ]
    }
   ],
   "source": [
    "#visualize tensorboard -- a little buggy...\n",
    "if USE_TENSORBOARD:\n",
    "    %load_ext tensorboard\n",
    "    %tensorboard --logdir=runs"
   ]
  }
 ],
 "metadata": {
  "kernelspec": {
   "display_name": "Python 3",
   "language": "python",
   "name": "python3"
  },
  "language_info": {
   "codemirror_mode": {
    "name": "ipython",
    "version": 3
   },
   "file_extension": ".py",
   "mimetype": "text/x-python",
   "name": "python",
   "nbconvert_exporter": "python",
   "pygments_lexer": "ipython3",
   "version": "3.7.7"
  }
 },
 "nbformat": 4,
 "nbformat_minor": 4
}
