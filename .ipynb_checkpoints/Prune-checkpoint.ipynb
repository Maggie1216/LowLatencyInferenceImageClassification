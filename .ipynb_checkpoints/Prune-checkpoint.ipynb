{
 "cells": [
  {
   "cell_type": "code",
   "execution_count": 107,
   "metadata": {},
   "outputs": [],
   "source": [
    "#imports\n",
    "import torch\n",
    "import numpy as np\n",
    "import pandas as pd\n",
    "import torchvision.models as models\n",
    "from torch.utils.tensorboard import SummaryWriter\n",
    "import seaborn as sns\n",
    "import matplotlib.pyplot as plt\n",
    "from torch.utils.data import TensorDataset\n",
    "import time\n",
    "import torch.nn as nn\n",
    "import torch.optim as optim\n",
    "from torch.autograd import Variable\n",
    "from torch.utils.data import Dataset, DataLoader\n",
    "import torchvision\n",
    "from torchvision import datasets, models, transforms\n",
    "import matplotlib.pyplot as plt\n",
    "import datetime\n",
    "import copy\n",
    "import os\n",
    "import pickle\n",
    "from tqdm import tqdm\n",
    "from models import vgg"
   ]
  },
  {
   "cell_type": "markdown",
   "metadata": {},
   "source": [
    "# setting"
   ]
  },
  {
   "cell_type": "code",
   "execution_count": 112,
   "metadata": {},
   "outputs": [],
   "source": [
    "#mean and std of cifar100 dataset\n",
    "CIFAR100_TRAIN_MEAN = (0.5070751592371323, 0.48654887331495095, 0.4409178433670343)\n",
    "CIFAR100_TRAIN_STD = (0.2673342858792401, 0.2564384629170883, 0.27615047132568404)\n",
    "\n",
    "BATCH_SIZE = 16\n",
    "WARM = False # typically used in new training\n",
    "\n",
    "DATE_FORMAT = '%A_%d_%B_%Y_%Hh_%Mm_%Ss'\n",
    "#time of we run the script\n",
    "TIME_NOW = datetime.datetime.now().strftime(DATE_FORMAT)\n",
    "#data settings\n",
    "subset = False #for local running\n",
    "k = 10 #number of samples needed to each class in validation set, because we need to split train and validation\n",
    "\n",
    "#model settings\n",
    "USE_TENSORBOARD = False\n",
    "if USE_TENSORBOARD:\n",
    "    foo = SummaryWriter()\n",
    "use_gpu = True\n",
    "\n",
    "#lr scheduler\n",
    "BASE_LR = 0.001\n",
    "EPOCH_DECAY = 4\n",
    "DECAY_WEIGHT = 0.5\n",
    "\n",
    "DEVICE = 'cpu'\n",
    "if use_gpu and torch.cuda.is_available():\n",
    "    DEVICE = 'cuda'"
   ]
  },
  {
   "cell_type": "code",
   "execution_count": 3,
   "metadata": {},
   "outputs": [],
   "source": [
    "#read files\n",
    "def unpickle(file):\n",
    "    \n",
    "    with open(file, 'rb') as fo:\n",
    "        dictionary = pickle.load(fo, encoding='bytes')\n",
    "    return dictionary"
   ]
  },
  {
   "cell_type": "code",
   "execution_count": 11,
   "metadata": {},
   "outputs": [],
   "source": [
    "def compute_mean_std(cifar100_dataset):\n",
    "    \"\"\"compute the mean and std of cifar100 dataset\n",
    "    Args:\n",
    "        cifar100_training_dataset or cifar100_test_dataset\n",
    "        witch derived from class torch.utils.data\n",
    "\n",
    "    Returns:\n",
    "        a tuple contains mean, std value of entire dataset\n",
    "    \"\"\"\n",
    "\n",
    "    data_r = numpy.dstack([cifar100_dataset[i][1][:, :, 0] for i in range(len(cifar100_dataset))])\n",
    "    data_g = numpy.dstack([cifar100_dataset[i][1][:, :, 1] for i in range(len(cifar100_dataset))])\n",
    "    data_b = numpy.dstack([cifar100_dataset[i][1][:, :, 2] for i in range(len(cifar100_dataset))])\n",
    "    mean = numpy.mean(data_r), numpy.mean(data_g), numpy.mean(data_b)\n",
    "    std = numpy.std(data_r), numpy.std(data_g), numpy.std(data_b)\n",
    "\n",
    "    return mean, std"
   ]
  },
  {
   "cell_type": "code",
   "execution_count": 12,
   "metadata": {},
   "outputs": [],
   "source": [
    "#data processing\n",
    "def reshape_images(data_dict):\n",
    "    reshaped = data_dict.numpy().reshape(len(data_dict), 1024, 3, order = 'F').reshape(len(data_dict), 32,32,3)\n",
    "    reshaped_processed = torch.from_numpy(reshaped).float().permute(0, 3, 1, 2)\n",
    "    return reshaped_processed"
   ]
  },
  {
   "cell_type": "code",
   "execution_count": 42,
   "metadata": {},
   "outputs": [],
   "source": [
    "def get_training_dataloader(mean, std, batch_size=16, num_workers=2, shuffle=True):\n",
    "    \"\"\" return training dataloader\n",
    "    Args:\n",
    "        mean: mean of cifar100 training dataset\n",
    "        std: std of cifar100 training dataset\n",
    "        path: path to cifar100 training python dataset\n",
    "        batch_size: dataloader batchsize\n",
    "        num_workers: dataloader num_works\n",
    "        shuffle: whether to shuffle\n",
    "    Returns: train_data_loader:torch dataloader object\n",
    "    \"\"\"\n",
    "\n",
    "    transform_train = transforms.Compose([\n",
    "        #transforms.ToPILImage(),\n",
    "        transforms.RandomCrop(32, padding=4),\n",
    "        transforms.RandomHorizontalFlip(),\n",
    "        transforms.RandomRotation(15),\n",
    "        transforms.ToTensor(),\n",
    "        transforms.Normalize(mean, std)\n",
    "    ])\n",
    "    #cifar100_training = CIFAR100Train(path, transform=transform_train)\n",
    "    cifar100_training = torchvision.datasets.CIFAR100(root='', train=True, download=True, transform=transform_train)\n",
    "    \n",
    "    try:\n",
    "        random_index = pickle.load(open(\"random_index.pkl\", 'rb'))\n",
    "    except:\n",
    "        random_index = np.random.permutation([i for i in range(50000)])\n",
    "        pickle.dump(random_index, open(\"random_index.pkl\", 'wb'))\n",
    "    \n",
    "    \n",
    "    train_dataset = torch.utils.data.Subset(cifar100_training, train_index)\n",
    "    validation_dataset = torch.utils.data.Subset(cifar100_training, validation_index)\n",
    "    \n",
    "    cifar100_training_loader = DataLoader(\n",
    "        train_dataset, shuffle=shuffle, num_workers=num_workers, batch_size=batch_size)\n",
    "    \n",
    "    cifar100_validation_loader = DataLoader(\n",
    "        validation_dataset, shuffle=shuffle, num_workers=num_workers, batch_size=batch_size)\n",
    "\n",
    "    return cifar100_training_loader, cifar100_validation_loader"
   ]
  },
  {
   "cell_type": "code",
   "execution_count": 43,
   "metadata": {},
   "outputs": [],
   "source": [
    "def get_test_dataloader(mean, std, batch_size=16, num_workers=2, shuffle=True):\n",
    "    \"\"\" return training dataloader\n",
    "    Args:\n",
    "        mean: mean of cifar100 test dataset\n",
    "        std: std of cifar100 test dataset\n",
    "        path: path to cifar100 test python dataset\n",
    "        batch_size: dataloader batchsize\n",
    "        num_workers: dataloader num_works\n",
    "        shuffle: whether to shuffle\n",
    "    Returns: cifar100_test_loader:torch dataloader object\n",
    "    \"\"\"\n",
    "\n",
    "    transform_test = transforms.Compose([\n",
    "        transforms.ToTensor(),\n",
    "        transforms.Normalize(mean, std)\n",
    "    ])\n",
    "    #cifar100_test = CIFAR100Test(path, transform=transform_test)\n",
    "    cifar100_test = torchvision.datasets.CIFAR100(root='', train=False, download=True, transform=transform_test)\n",
    "    cifar100_test_loader = DataLoader(\n",
    "        cifar100_test, shuffle=shuffle, num_workers=num_workers, batch_size=batch_size)\n",
    "\n",
    "    return cifar100_test_loader"
   ]
  },
  {
   "cell_type": "code",
   "execution_count": null,
   "metadata": {},
   "outputs": [],
   "source": [
    "class ClipWeightCallBack():\n",
    "    \n",
    "    def __init__(self):\n",
    "        self.zeros_mask = None\n",
    "    \n",
    "    def get_zeros_mask(model):\n",
    "        \n",
    "        self.zeros_mask= []\n",
    "\n",
    "        for weights_matrix in model.parameters():\n",
    "            self.zeros_mask.append(torch.where(weights_matrix == 0, \\\n",
    "                                     torch.zeros(weights_matrix.data.shape), \\\n",
    "                                     torch.ones(weights_matrix.data.shape)))\n",
    "    \n",
    "    def apply_zeros_mask(model):\n",
    "        \n",
    "        for index, weights_matrix in enumerate(model.parameters()):\n",
    "            weights_matrix.data = weights_matrix.data * self.zeros_mask[index]"
   ]
  },
  {
   "cell_type": "code",
   "execution_count": 123,
   "metadata": {},
   "outputs": [],
   "source": [
    "def train(model, epoch, train_dataloader, optimizer, loss_function, prune = False, callbacks = None):\n",
    "\n",
    "    start = time.time()\n",
    "    model.to(DEVICE)\n",
    "    model.train()\n",
    "    \n",
    "    for batch_index, (images, labels) in enumerate(train_dataloader):\n",
    "        if epoch <= WARM:\n",
    "            warmup_scheduler.step()\n",
    "\n",
    "        if use_gpu:\n",
    "            labels = labels.to(DEVICE)\n",
    "            images = images.to(DEVICE)\n",
    "\n",
    "        optimizer.zero_grad()\n",
    "        outputs = model(images)\n",
    "        loss = loss_function(outputs, labels)\n",
    "        loss.backward()\n",
    "        optimizer.step()\n",
    "        callbacks.\n",
    "\n",
    "        n_iter = (epoch - 1) * len(train_dataloader) + batch_index + 1\n",
    "\n",
    "        last_layer = list(model.children())[-1]\n",
    "        for name, para in last_layer.named_parameters():\n",
    "            if 'weight' in name:\n",
    "                writer.add_scalar('LastLayerGradients/grad_norm2_weights', para.grad.norm(), n_iter)\n",
    "            if 'bias' in name:\n",
    "                writer.add_scalar('LastLayerGradients/grad_norm2_bias', para.grad.norm(), n_iter)\n",
    "\n",
    "        print('Training Epoch: {epoch} [{trained_samples}/{total_samples}]\\tLoss: {:0.4f}\\tLR: {:0.6f}'.format(\n",
    "            loss.item(),\n",
    "            optimizer.param_groups[0]['lr'],\n",
    "            epoch=epoch,\n",
    "            trained_samples=batch_index * BATCH_SIZE + len(images),\n",
    "            total_samples=len(train_dataloader.dataset)\n",
    "        ))\n",
    "\n",
    "        #update training loss for each iteration\n",
    "        writer.add_scalar('Train/loss', loss.item(), n_iter)\n",
    "\n",
    "    for name, param in model.named_parameters():\n",
    "        layer, attr = os.path.splitext(name)\n",
    "        attr = attr[1:]\n",
    "        writer.add_histogram(\"{}/{}\".format(layer, attr), param, epoch)\n",
    "\n",
    "    finish = time.time()\n",
    "\n",
    "    print('epoch {} training time consumed: {:.2f}s'.format(epoch, finish - start))\n"
   ]
  },
  {
   "cell_type": "code",
   "execution_count": 92,
   "metadata": {},
   "outputs": [],
   "source": [
    "def evaluate_model(model, val_dataloader):\n",
    "    # for validation set or testing set\n",
    "    start = time.time()\n",
    "    model.to(DEVICE)\n",
    "    model.eval()\n",
    "    \n",
    "    total_preds = 0\n",
    "    total_corrects = 0\n",
    "    \n",
    "    for batch_index, (images, labels) in enumerate(val_dataloader):\n",
    "        if use_gpu:\n",
    "            # labels = labels.to(DEVICE)\n",
    "            images = images.to(DEVICE)\n",
    "            \n",
    "        outputs = model(images)\n",
    "        _, preds = torch.max(outputs.data, 1)\n",
    "        \n",
    "        \n",
    "        total_preds += len(labels)\n",
    "        total_corrects += np.sum(preds.cpu().numpy() == labels.numpy())\n",
    "    \n",
    "    print(\"Accuracy is {:.5f}\".format(total_corrects/total_preds))\n",
    "    \n",
    "    return total_corrects/total_preds"
   ]
  },
  {
   "cell_type": "code",
   "execution_count": 53,
   "metadata": {},
   "outputs": [
    {
     "name": "stdout",
     "output_type": "stream",
     "text": [
      "Files already downloaded and verified\n",
      "Files already downloaded and verified\n"
     ]
    }
   ],
   "source": [
    "cifar100_training_loader, cifar100_validation_loader = get_training_dataloader(\n",
    "    CIFAR100_TRAIN_MEAN,\n",
    "    CIFAR100_TRAIN_STD,\n",
    "    num_workers = 4,\n",
    "    batch_size = BATCH_SIZE,\n",
    "    shuffle = True\n",
    ")\n",
    "\n",
    "cifar100_test_loader = get_test_dataloader(\n",
    "    CIFAR100_TRAIN_MEAN,\n",
    "    CIFAR100_TRAIN_STD,\n",
    "    num_workers = 4,\n",
    "    batch_size = BATCH_SIZE,\n",
    "    shuffle = True\n",
    ")"
   ]
  },
  {
   "cell_type": "code",
   "execution_count": 181,
   "metadata": {},
   "outputs": [
    {
     "data": {
      "text/plain": [
       "<All keys matched successfully>"
      ]
     },
     "execution_count": 181,
     "metadata": {},
     "output_type": "execute_result"
    }
   ],
   "source": [
    "model = vgg.vgg16_bn()\n",
    "weights = torch.load(\"checkpoints/vgg16-197-best.pth\")\n",
    "model.load_state_dict(weights)"
   ]
  },
  {
   "cell_type": "code",
   "execution_count": 117,
   "metadata": {
    "scrolled": true
   },
   "outputs": [
    {
     "name": "stdout",
     "output_type": "stream",
     "text": [
      "Accuracy is 0.10350\n"
     ]
    },
    {
     "data": {
      "text/plain": [
       "0.1035"
      ]
     },
     "execution_count": 117,
     "metadata": {},
     "output_type": "execute_result"
    }
   ],
   "source": [
    "evaluate_model(model, cifar100_test_loader)"
   ]
  },
  {
   "cell_type": "code",
   "execution_count": 114,
   "metadata": {},
   "outputs": [
    {
     "name": "stderr",
     "output_type": "stream",
     "text": [
      "Traceback (most recent call last):\n",
      "  File \"C:\\Users\\1\\Anaconda3\\envs\\python3.5\\lib\\multiprocessing\\queues.py\", line 230, in _feed\n",
      "    close()\n",
      "  File \"C:\\Users\\1\\Anaconda3\\envs\\python3.5\\lib\\multiprocessing\\connection.py\", line 177, in close\n",
      "    self._close()\n",
      "  File \"C:\\Users\\1\\Anaconda3\\envs\\python3.5\\lib\\multiprocessing\\connection.py\", line 277, in _close\n",
      "    _CloseHandle(self._handle)\n",
      "OSError: [WinError 6] 句柄无效。\n"
     ]
    },
    {
     "name": "stdout",
     "output_type": "stream",
     "text": [
      "INFO:tensorflow:Using local port 19288\n",
      "INFO:tensorflow:Using local port 18335\n",
      "INFO:tensorflow:Using local port 17170\n",
      "INFO:tensorflow:Using local port 21253\n",
      "INFO:tensorflow:Using local port 24034\n",
      "INFO:tensorflow:Using local port 17593\n",
      "INFO:tensorflow:Using local port 20321\n",
      "INFO:tensorflow:Using local port 16590\n",
      "INFO:tensorflow:Using local port 21716\n",
      "INFO:tensorflow:Using local port 17480\n"
     ]
    }
   ],
   "source": [
    "writer = SummaryWriter(log_dir=os.path.join(\n",
    "            'logs', 'vgg', TIME_NOW))"
   ]
  },
  {
   "cell_type": "code",
   "execution_count": 119,
   "metadata": {},
   "outputs": [],
   "source": [
    "sgd_optimizer = optim.SGD(model.parameters(), lr= 0.0000001, momentum=0.9, weight_decay=5e-4)\n",
    "crossEntropyLoss_function = nn.CrossEntropyLoss()"
   ]
  },
  {
   "cell_type": "code",
   "execution_count": 124,
   "metadata": {
    "scrolled": true
   },
   "outputs": [
    {
     "name": "stdout",
     "output_type": "stream",
     "text": [
      "Training Epoch: 10 [16/45000]\tLoss: 0.6150\tLR: 0.000000\n",
      "Training Epoch: 10 [32/45000]\tLoss: 0.0147\tLR: 0.000000\n",
      "Training Epoch: 10 [48/45000]\tLoss: 0.9975\tLR: 0.000000\n",
      "Training Epoch: 10 [64/45000]\tLoss: 0.0630\tLR: 0.000000\n",
      "Training Epoch: 10 [80/45000]\tLoss: 0.3064\tLR: 0.000000\n",
      "Training Epoch: 10 [96/45000]\tLoss: 0.4618\tLR: 0.000000\n",
      "Training Epoch: 10 [112/45000]\tLoss: 0.2743\tLR: 0.000000\n",
      "Training Epoch: 10 [128/45000]\tLoss: 0.0054\tLR: 0.000000\n",
      "Training Epoch: 10 [144/45000]\tLoss: 0.0624\tLR: 0.000000\n",
      "Training Epoch: 10 [160/45000]\tLoss: 0.0349\tLR: 0.000000\n",
      "Training Epoch: 10 [176/45000]\tLoss: 0.0556\tLR: 0.000000\n",
      "Training Epoch: 10 [192/45000]\tLoss: 0.0627\tLR: 0.000000\n",
      "Training Epoch: 10 [208/45000]\tLoss: 0.2487\tLR: 0.000000\n",
      "Training Epoch: 10 [224/45000]\tLoss: 0.4779\tLR: 0.000000\n",
      "Training Epoch: 10 [240/45000]\tLoss: 0.5389\tLR: 0.000000\n",
      "Training Epoch: 10 [256/45000]\tLoss: 0.1566\tLR: 0.000000\n",
      "Training Epoch: 10 [272/45000]\tLoss: 0.0897\tLR: 0.000000\n",
      "Training Epoch: 10 [288/45000]\tLoss: 0.0231\tLR: 0.000000\n",
      "Training Epoch: 10 [304/45000]\tLoss: 0.0053\tLR: 0.000000\n",
      "Training Epoch: 10 [320/45000]\tLoss: 0.1717\tLR: 0.000000\n",
      "Training Epoch: 10 [336/45000]\tLoss: 0.3522\tLR: 0.000000\n",
      "Training Epoch: 10 [352/45000]\tLoss: 0.0327\tLR: 0.000000\n",
      "Training Epoch: 10 [368/45000]\tLoss: 0.1359\tLR: 0.000000\n",
      "Training Epoch: 10 [384/45000]\tLoss: 0.0797\tLR: 0.000000\n",
      "Training Epoch: 10 [400/45000]\tLoss: 0.0454\tLR: 0.000000\n",
      "Training Epoch: 10 [416/45000]\tLoss: 0.0321\tLR: 0.000000\n",
      "Training Epoch: 10 [432/45000]\tLoss: 0.1060\tLR: 0.000000\n",
      "Training Epoch: 10 [448/45000]\tLoss: 0.0894\tLR: 0.000000\n",
      "Training Epoch: 10 [464/45000]\tLoss: 0.2997\tLR: 0.000000\n",
      "Training Epoch: 10 [480/45000]\tLoss: 0.1198\tLR: 0.000000\n",
      "Training Epoch: 10 [496/45000]\tLoss: 0.1363\tLR: 0.000000\n",
      "Training Epoch: 10 [512/45000]\tLoss: 0.0127\tLR: 0.000000\n",
      "Training Epoch: 10 [528/45000]\tLoss: 0.7936\tLR: 0.000000\n",
      "Training Epoch: 10 [544/45000]\tLoss: 0.6299\tLR: 0.000000\n",
      "Training Epoch: 10 [560/45000]\tLoss: 0.0042\tLR: 0.000000\n",
      "Training Epoch: 10 [576/45000]\tLoss: 0.3106\tLR: 0.000000\n",
      "Training Epoch: 10 [592/45000]\tLoss: 0.0464\tLR: 0.000000\n",
      "Training Epoch: 10 [608/45000]\tLoss: 0.1841\tLR: 0.000000\n",
      "Training Epoch: 10 [624/45000]\tLoss: 0.0225\tLR: 0.000000\n",
      "Training Epoch: 10 [640/45000]\tLoss: 0.0980\tLR: 0.000000\n",
      "Training Epoch: 10 [656/45000]\tLoss: 0.0850\tLR: 0.000000\n",
      "Training Epoch: 10 [672/45000]\tLoss: 0.1315\tLR: 0.000000\n",
      "Training Epoch: 10 [688/45000]\tLoss: 0.0191\tLR: 0.000000\n",
      "Training Epoch: 10 [704/45000]\tLoss: 0.0342\tLR: 0.000000\n",
      "Training Epoch: 10 [720/45000]\tLoss: 0.1469\tLR: 0.000000\n",
      "Training Epoch: 10 [736/45000]\tLoss: 0.3916\tLR: 0.000000\n",
      "Training Epoch: 10 [752/45000]\tLoss: 0.3812\tLR: 0.000000\n",
      "Training Epoch: 10 [768/45000]\tLoss: 0.4677\tLR: 0.000000\n",
      "Training Epoch: 10 [784/45000]\tLoss: 0.0047\tLR: 0.000000\n",
      "Training Epoch: 10 [800/45000]\tLoss: 0.2041\tLR: 0.000000\n",
      "Training Epoch: 10 [816/45000]\tLoss: 0.0092\tLR: 0.000000\n",
      "Training Epoch: 10 [832/45000]\tLoss: 0.1685\tLR: 0.000000\n",
      "Training Epoch: 10 [848/45000]\tLoss: 0.2714\tLR: 0.000000\n",
      "Training Epoch: 10 [864/45000]\tLoss: 0.4020\tLR: 0.000000\n",
      "Training Epoch: 10 [880/45000]\tLoss: 0.2333\tLR: 0.000000\n",
      "Training Epoch: 10 [896/45000]\tLoss: 0.7264\tLR: 0.000000\n",
      "Training Epoch: 10 [912/45000]\tLoss: 0.1085\tLR: 0.000000\n",
      "Training Epoch: 10 [928/45000]\tLoss: 0.5913\tLR: 0.000000\n",
      "Training Epoch: 10 [944/45000]\tLoss: 0.1239\tLR: 0.000000\n",
      "Training Epoch: 10 [960/45000]\tLoss: 0.3941\tLR: 0.000000\n",
      "Training Epoch: 10 [976/45000]\tLoss: 0.0281\tLR: 0.000000\n",
      "Training Epoch: 10 [992/45000]\tLoss: 0.1050\tLR: 0.000000\n",
      "Training Epoch: 10 [1008/45000]\tLoss: 0.5636\tLR: 0.000000\n",
      "Training Epoch: 10 [1024/45000]\tLoss: 0.2235\tLR: 0.000000\n",
      "Training Epoch: 10 [1040/45000]\tLoss: 0.6846\tLR: 0.000000\n",
      "Training Epoch: 10 [1056/45000]\tLoss: 0.0163\tLR: 0.000000\n",
      "Training Epoch: 10 [1072/45000]\tLoss: 0.0193\tLR: 0.000000\n",
      "Training Epoch: 10 [1088/45000]\tLoss: 0.1522\tLR: 0.000000\n",
      "Training Epoch: 10 [1104/45000]\tLoss: 0.2019\tLR: 0.000000\n",
      "Training Epoch: 10 [1120/45000]\tLoss: 0.2031\tLR: 0.000000\n",
      "Training Epoch: 10 [1136/45000]\tLoss: 0.8366\tLR: 0.000000\n",
      "Training Epoch: 10 [1152/45000]\tLoss: 0.0770\tLR: 0.000000\n",
      "Training Epoch: 10 [1168/45000]\tLoss: 0.0017\tLR: 0.000000\n",
      "Training Epoch: 10 [1184/45000]\tLoss: 0.3440\tLR: 0.000000\n",
      "Training Epoch: 10 [1200/45000]\tLoss: 0.7569\tLR: 0.000000\n",
      "Training Epoch: 10 [1216/45000]\tLoss: 0.0608\tLR: 0.000000\n",
      "Training Epoch: 10 [1232/45000]\tLoss: 0.1348\tLR: 0.000000\n",
      "Training Epoch: 10 [1248/45000]\tLoss: 0.1634\tLR: 0.000000\n",
      "Training Epoch: 10 [1264/45000]\tLoss: 0.0229\tLR: 0.000000\n",
      "Training Epoch: 10 [1280/45000]\tLoss: 0.1003\tLR: 0.000000\n",
      "Training Epoch: 10 [1296/45000]\tLoss: 0.3236\tLR: 0.000000\n",
      "Training Epoch: 10 [1312/45000]\tLoss: 0.0483\tLR: 0.000000\n",
      "Training Epoch: 10 [1328/45000]\tLoss: 0.0445\tLR: 0.000000\n",
      "Training Epoch: 10 [1344/45000]\tLoss: 0.0668\tLR: 0.000000\n",
      "Training Epoch: 10 [1360/45000]\tLoss: 0.2213\tLR: 0.000000\n",
      "Training Epoch: 10 [1376/45000]\tLoss: 0.2190\tLR: 0.000000\n",
      "Training Epoch: 10 [1392/45000]\tLoss: 0.1350\tLR: 0.000000\n",
      "Training Epoch: 10 [1408/45000]\tLoss: 0.1168\tLR: 0.000000\n",
      "Training Epoch: 10 [1424/45000]\tLoss: 0.0119\tLR: 0.000000\n",
      "Training Epoch: 10 [1440/45000]\tLoss: 0.4584\tLR: 0.000000\n",
      "Training Epoch: 10 [1456/45000]\tLoss: 0.1228\tLR: 0.000000\n",
      "Training Epoch: 10 [1472/45000]\tLoss: 0.0072\tLR: 0.000000\n",
      "Training Epoch: 10 [1488/45000]\tLoss: 0.3871\tLR: 0.000000\n",
      "Training Epoch: 10 [1504/45000]\tLoss: 0.1876\tLR: 0.000000\n",
      "Training Epoch: 10 [1520/45000]\tLoss: 0.1552\tLR: 0.000000\n",
      "Training Epoch: 10 [1536/45000]\tLoss: 0.2383\tLR: 0.000000\n",
      "Training Epoch: 10 [1552/45000]\tLoss: 0.0599\tLR: 0.000000\n",
      "Training Epoch: 10 [1568/45000]\tLoss: 0.2084\tLR: 0.000000\n",
      "Training Epoch: 10 [1584/45000]\tLoss: 0.0405\tLR: 0.000000\n",
      "Training Epoch: 10 [1600/45000]\tLoss: 0.0932\tLR: 0.000000\n",
      "Training Epoch: 10 [1616/45000]\tLoss: 0.1238\tLR: 0.000000\n",
      "Training Epoch: 10 [1632/45000]\tLoss: 0.5006\tLR: 0.000000\n",
      "Training Epoch: 10 [1648/45000]\tLoss: 0.5439\tLR: 0.000000\n",
      "Training Epoch: 10 [1664/45000]\tLoss: 0.0015\tLR: 0.000000\n",
      "Training Epoch: 10 [1680/45000]\tLoss: 0.0533\tLR: 0.000000\n",
      "Training Epoch: 10 [1696/45000]\tLoss: 0.0157\tLR: 0.000000\n",
      "Training Epoch: 10 [1712/45000]\tLoss: 0.2655\tLR: 0.000000\n",
      "Training Epoch: 10 [1728/45000]\tLoss: 0.3332\tLR: 0.000000\n",
      "Training Epoch: 10 [1744/45000]\tLoss: 0.1759\tLR: 0.000000\n"
     ]
    },
    {
     "ename": "KeyboardInterrupt",
     "evalue": "",
     "output_type": "error",
     "traceback": [
      "\u001b[1;31m---------------------------------------------------------------------------\u001b[0m",
      "\u001b[1;31mKeyboardInterrupt\u001b[0m                         Traceback (most recent call last)",
      "\u001b[1;32m<ipython-input-124-85bbc83bef53>\u001b[0m in \u001b[0;36m<module>\u001b[1;34m()\u001b[0m\n\u001b[1;32m----> 1\u001b[1;33m \u001b[0mtrain\u001b[0m\u001b[1;33m(\u001b[0m\u001b[0mmodel\u001b[0m\u001b[1;33m,\u001b[0m \u001b[0mtrain_dataloader\u001b[0m \u001b[1;33m=\u001b[0m \u001b[0mcifar100_training_loader\u001b[0m\u001b[1;33m,\u001b[0m \u001b[0mepoch\u001b[0m \u001b[1;33m=\u001b[0m \u001b[1;36m10\u001b[0m\u001b[1;33m,\u001b[0m \u001b[0moptimizer\u001b[0m \u001b[1;33m=\u001b[0m \u001b[0msgd_optimizer\u001b[0m\u001b[1;33m,\u001b[0m                                                           \u001b[0mloss_function\u001b[0m \u001b[1;33m=\u001b[0m \u001b[0mcrossEntropyLoss_function\u001b[0m\u001b[1;33m)\u001b[0m\u001b[1;33m\u001b[0m\u001b[0m\n\u001b[0m",
      "\u001b[1;32m<ipython-input-123-2aa229be2c58>\u001b[0m in \u001b[0;36mtrain\u001b[1;34m(model, epoch, train_dataloader, optimizer, loss_function)\u001b[0m\n\u001b[0;32m     28\u001b[0m \u001b[1;33m\u001b[0m\u001b[0m\n\u001b[0;32m     29\u001b[0m         print('Training Epoch: {epoch} [{trained_samples}/{total_samples}]\\tLoss: {:0.4f}\\tLR: {:0.6f}'.format(\n\u001b[1;32m---> 30\u001b[1;33m             \u001b[0mloss\u001b[0m\u001b[1;33m.\u001b[0m\u001b[0mitem\u001b[0m\u001b[1;33m(\u001b[0m\u001b[1;33m)\u001b[0m\u001b[1;33m,\u001b[0m\u001b[1;33m\u001b[0m\u001b[0m\n\u001b[0m\u001b[0;32m     31\u001b[0m             \u001b[0moptimizer\u001b[0m\u001b[1;33m.\u001b[0m\u001b[0mparam_groups\u001b[0m\u001b[1;33m[\u001b[0m\u001b[1;36m0\u001b[0m\u001b[1;33m]\u001b[0m\u001b[1;33m[\u001b[0m\u001b[1;34m'lr'\u001b[0m\u001b[1;33m]\u001b[0m\u001b[1;33m,\u001b[0m\u001b[1;33m\u001b[0m\u001b[0m\n\u001b[0;32m     32\u001b[0m             \u001b[0mepoch\u001b[0m\u001b[1;33m=\u001b[0m\u001b[0mepoch\u001b[0m\u001b[1;33m,\u001b[0m\u001b[1;33m\u001b[0m\u001b[0m\n",
      "\u001b[1;31mKeyboardInterrupt\u001b[0m: "
     ]
    }
   ],
   "source": [
    "train(model, train_dataloader = cifar100_training_loader, epoch = 10, optimizer = sgd_optimizer, \\\n",
    "                                                          loss_function = crossEntropyLoss_function)"
   ]
  },
  {
   "cell_type": "code",
   "execution_count": 138,
   "metadata": {},
   "outputs": [],
   "source": [
    "def model_report(model, dataloader):\n",
    "    # local final score on validation data\n",
    "    num_zeros = sum([(i.detach().cpu().numpy() == 0).sum() for i in model.parameters()])\n",
    "    total_parameters = sum([np.prod(i.shape) for i in model.parameters()])\n",
    "    accuracy = evaluate_model(model, dataloader)\n",
    "    result = (accuracy + num_zeros/total_parameters)/2\n",
    "    print(\"num_zeros / total_parameters ratio is \", num_zeros/total_parameters)\n",
    "    print(\"accuracy is \", accuracy)\n",
    "    print(\"overall score is \", result)\n",
    "    return num_zeros/total_parameters, accuracy"
   ]
  },
  {
   "cell_type": "code",
   "execution_count": 170,
   "metadata": {},
   "outputs": [],
   "source": [
    "def prune_network(model, threshold = 0.01):\n",
    "    \n",
    "    # vgg has classifier and features\n",
    "    for weights_matrix in model.parameters():\n",
    "        weights_matrix.data = torch.where(torch.abs(weights_matrix.data) >= threshold, \\\n",
    "                                          weights_matrix.data, torch.zeros(weights_matrix.data.shape))"
   ]
  },
  {
   "cell_type": "code",
   "execution_count": 176,
   "metadata": {},
   "outputs": [],
   "source": []
  },
  {
   "cell_type": "code",
   "execution_count": 179,
   "metadata": {},
   "outputs": [],
   "source": []
  },
  {
   "cell_type": "code",
   "execution_count": 171,
   "metadata": {},
   "outputs": [],
   "source": [
    "prune_network(model, threshold = 0.01)"
   ]
  },
  {
   "cell_type": "code",
   "execution_count": 178,
   "metadata": {},
   "outputs": [],
   "source": [
    "temp = get_zeros_mask(model)"
   ]
  },
  {
   "cell_type": "code",
   "execution_count": 184,
   "metadata": {},
   "outputs": [],
   "source": [
    "apply_zeros_mask(model, temp)"
   ]
  },
  {
   "cell_type": "code",
   "execution_count": 186,
   "metadata": {},
   "outputs": [],
   "source": [
    "# model_report(model, cifar100_validation_loader)"
   ]
  }
 ],
 "metadata": {
  "kernelspec": {
   "display_name": "Python 3",
   "language": "python",
   "name": "python3"
  },
  "language_info": {
   "codemirror_mode": {
    "name": "ipython",
    "version": 3
   },
   "file_extension": ".py",
   "mimetype": "text/x-python",
   "name": "python",
   "nbconvert_exporter": "python",
   "pygments_lexer": "ipython3",
   "version": "3.5.6"
  }
 },
 "nbformat": 4,
 "nbformat_minor": 2
}
